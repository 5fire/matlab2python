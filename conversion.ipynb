{
 "cells": [
  {
   "cell_type": "markdown",
   "metadata": {},
   "source": [
    "#### This is a growing tutorial demonstrates some MATLAB examples and their equivalent code in Python\n",
    "#### Each Matlab block function corresponds a block in conversion.ipynb\n",
    "#### written by Richard Xu (yida.xu@uts.edu.au)\n",
    "#### Jan 2018"
   ]
  },
  {
   "cell_type": "markdown",
   "metadata": {},
   "source": [
    "# block_numpy_multiply"
   ]
  },
  {
   "cell_type": "code",
   "execution_count": 8,
   "metadata": {
    "collapsed": false,
    "scrolled": true
   },
   "outputs": [
    {
     "name": "stdout",
     "output_type": "stream",
     "text": [
      "[[27 26]\n",
      " [25 22]] \n",
      "\n",
      "[[27 26]\n",
      " [25 22]] \n",
      "\n",
      "[[1379 1274]\n",
      " [1225 1134]] \n",
      "\n",
      "<type 'list'> \n",
      "\n",
      "<type 'numpy.ndarray'> \n",
      "\n",
      "[[15 24]\n",
      " [ 6 10]] \n",
      "\n",
      "[[405 624]\n",
      " [150 220]] \n",
      "\n"
     ]
    }
   ],
   "source": [
    "import numpy as np\n",
    "\n",
    "# the following does normal matrix multiplication\n",
    "\n",
    "A = [[3, 4],[2, 5]]\n",
    "B = [[5, 6],[3, 2]]\n",
    "\n",
    "C = np.dot(A,B)\n",
    "C1 = np.matmul(A,B)\n",
    "\n",
    "# note that np.dot takes two inputs:\n",
    "C2 = reduce(np.dot, [A, B, C])\n",
    "\n",
    "# in python 3.5 one can use @, i.e., C2 = A @ B\n",
    "\n",
    "print C, \"\\n\"\n",
    "print C1, \"\\n\"\n",
    "print C2, \"\\n\"\n",
    "\n",
    "# the following does element-wise multipication\n",
    "W1 = np.multiply(A,B)\n",
    "\n",
    "# if one calls C1 = A * B, it will return error, as the variables hasn't declared as np.array\n",
    "print type(A), \"\\n\"\n",
    "A = np.array(A)\n",
    "\n",
    "print type(A), \"\\n\"\n",
    "\n",
    "B = np.array(B)\n",
    "W2 = A * B * C\n",
    "\n",
    "print W1, \"\\n\"\n",
    "print W2, \"\\n\""
   ]
  },
  {
   "cell_type": "markdown",
   "metadata": {},
   "source": [
    "# block_matrix_find"
   ]
  },
  {
   "cell_type": "code",
   "execution_count": 9,
   "metadata": {
    "collapsed": false
   },
   "outputs": [
    {
     "name": "stdout",
     "output_type": "stream",
     "text": [
      "[[8, 1, 6], [3, 5, 7], [4, 9, 2]] \n",
      "\n",
      "<type 'list'> True \n",
      "\n",
      "[[8 1 6]\n",
      " [3 5 7]\n",
      " [4 9 2]] \n",
      "\n",
      "<type 'numpy.ndarray'> \n",
      "\n",
      "[[ True False  True]\n",
      " [False False  True]\n",
      " [False  True False]] \n",
      "\n",
      "a_list[2,1] =  9 \n",
      "\n",
      "a_list[2,:] =  [4 9 2] \n",
      "\n",
      "a_list[:,1] =  [1 5 9] \n",
      "\n",
      "(array([0, 0, 1, 2]), array([0, 2, 2, 1])) \n",
      "\n",
      "[8 6 7 9] \n",
      "\n"
     ]
    }
   ],
   "source": [
    "## hello\n",
    "\n",
    "a_list = [[ 8, 1, 6], [3, 5, 7], [4, 9, 2]]\n",
    "print a_list,\"\\n\"\n",
    "print type(a_list), a_list > 5, \"\\n\"\n",
    "\n",
    "a_list = np.array(a_list)\n",
    "print a_list,\"\\n\"\n",
    "\n",
    "print type(a_list), \"\\n\"\n",
    "\n",
    "# should see a matrix of True and False\n",
    "print a_list > 5, \"\\n\"\n",
    "\n",
    "print \"a_list[2,1] = \", a_list[2,1], \"\\n\"\n",
    "print \"a_list[2,:] = \", a_list[2,:], \"\\n\"\n",
    "print \"a_list[:,1] = \", a_list[:,1], \"\\n\"\n",
    "\n",
    "# this will return two arrays indicating the row and column element, equivlent to \"find\" in MATLAB\n",
    "print np.where( a_list > 5 ), \"\\n\"\n",
    "print a_list[np.where( a_list > 5 )], \"\\n\""
   ]
  },
  {
   "cell_type": "markdown",
   "metadata": {},
   "source": [
    "# block_numpy_reshape"
   ]
  },
  {
   "cell_type": "code",
   "execution_count": 10,
   "metadata": {
    "collapsed": false
   },
   "outputs": [
    {
     "name": "stdout",
     "output_type": "stream",
     "text": [
      "[[16, 2, 3, 13], [5, 11, 10, 8], [9, 7, 6, 12], [4, 14, 15, 1]] \n",
      "\n",
      "[[16  2  3 13  5 11 10  8]\n",
      " [ 9  7  6 12  4 14 15  1]] \n",
      "\n",
      "[[16  2]\n",
      " [ 3 13]\n",
      " [ 5 11]\n",
      " [10  8]\n",
      " [ 9  7]\n",
      " [ 6 12]\n",
      " [ 4 14]\n",
      " [15  1]] \n",
      "\n",
      "[[16  5]\n",
      " [ 9  4]\n",
      " [ 2 11]\n",
      " [ 7 14]\n",
      " [ 3 10]\n",
      " [ 6 15]\n",
      " [13  8]\n",
      " [12  1]] \n",
      "\n",
      "[[16  5  9  4  2 11  7 14  3 10  6 15 13  8 12  1]] \n",
      "\n"
     ]
    }
   ],
   "source": [
    "a_list = [[16, 2, 3, 13], [5, 11, 10, 8], [9, 7, 6, 12] ,[4, 14, 15, 1]]\n",
    "print a_list,\"\\n\"\n",
    "\n",
    "b_list = np.reshape(a_list,[2,8])\n",
    "print b_list, \"\\n\"\n",
    "\n",
    "b_list = np.reshape(a_list,[8,2])\n",
    "print b_list, \"\\n\"\n",
    "\n",
    "b_list = np.reshape(np.transpose(a_list),[8,2])\n",
    "print b_list, \"\\n\"\n",
    "\n",
    "b_list = np.reshape(np.transpose(a_list),[1,-1])\n",
    "print b_list, \"\\n\"\n"
   ]
  },
  {
   "cell_type": "markdown",
   "metadata": {},
   "source": [
    "# block_numpy_unique"
   ]
  },
  {
   "cell_type": "code",
   "execution_count": 11,
   "metadata": {
    "collapsed": false
   },
   "outputs": [
    {
     "name": "stdout",
     "output_type": "stream",
     "text": [
      "[[ 10.  12.  12.  10.  14.]\n",
      " [ 13.  10.  14.  12.  10.]\n",
      " [ 13.  11.  13.  13.  12.]\n",
      " [ 11.  10.  14.  10.  14.]\n",
      " [ 11.  14.  12.  12.  10.]] \n",
      "\n",
      "[ 10.  11.  12.  13.  14.] \n",
      "\n",
      "[ 0 11  1  5  4] [0 2 2 0 4 3 0 4 2 0 3 1 3 3 2 1 0 4 0 4 1 4 2 2 0] [7 3 6 4 5] \n",
      "\n",
      "[ 10.  11.  12.  13.  14.] \n",
      "\n",
      "[ 10.  10.  10.  10.  10.  10.  10.]\n",
      "[ 11.  11.  11.]\n",
      "[ 12.  12.  12.  12.  12.  12.]\n",
      "[ 13.  13.  13.  13.]\n",
      "[ 14.  14.  14.  14.  14.]\n"
     ]
    }
   ],
   "source": [
    "a_list = np.random.rand(5,5) * 5 + 10\n",
    "a_list = np.floor(a_list)\n",
    "\n",
    "print a_list,\"\\n\"\n",
    "\n",
    "print np.unique(a_list), \"\\n\"\n",
    "\n",
    "val, indices, inv_indices, counts = np.unique(a_list, return_index = True, return_inverse = True, return_counts = True)\n",
    "\n",
    "print indices, inv_indices, counts,\"\\n\"\n",
    "one_a_list = a_list.flatten()\n",
    "print one_a_list[indices],\"\\n\"\n",
    "\n",
    "for v in val:\n",
    "    print one_a_list[np.where( one_a_list == v )]\n"
   ]
  },
  {
   "cell_type": "markdown",
   "metadata": {},
   "source": [
    "# block_direction_plot"
   ]
  },
  {
   "cell_type": "code",
   "execution_count": 12,
   "metadata": {
    "collapsed": false,
    "scrolled": true
   },
   "outputs": [
    {
     "name": "stdout",
     "output_type": "stream",
     "text": [
      "0.0237921565035 \n",
      "\n",
      "[[ 1.2  2.4]\n",
      " [ 3.1  7. ]\n",
      " [ 1.   1.8]\n",
      " [ 2.5  5.2]] \n",
      "\n",
      "1.0 \n",
      "\n",
      "[ 1.   1.8] \n",
      "\n"
     ]
    },
    {
     "data": {
      "image/png": "[encoded data removed]",
      "text/plain": [
       "<matplotlib.figure.Figure at 0x106abb610>"
      ]
     },
     "metadata": {},
     "output_type": "display_data"
    }
   ],
   "source": [
    "import matplotlib.pyplot as plt\n",
    "import math\n",
    "%matplotlib inline\n",
    "\n",
    "A = np.array([[1.2, 2.4], [3.1, 7.0]]);\n",
    "#A = np.array([[3.1, 7.0], [1.2, 2.4]]);\n",
    "B = np.array([[1.0, 1.8], [2.5, 5.2]]);\n",
    "\n",
    "\n",
    "plt.plot( A[0,0], A[0,1], 'bo', markersize=3, color='y')\n",
    "plt.plot( A[1,0], A[1,1], 'bo', markersize=3, color='k')\n",
    "plt.plot( A[:,0], A[:,1], color='g')\n",
    "\n",
    "\n",
    "plt.plot( B[0,0], B[0,1], 'bo', markersize=3, color='y')\n",
    "plt.plot( B[1,0], B[1,1], 'bo', markersize=3, color='k')\n",
    "plt.plot( B[:,0], B[:,1], color='c')\n",
    "\n",
    "A_dir = A[1,:] - A[0,:];\n",
    "A_dir = A_dir / np.linalg.norm(A_dir);\n",
    "\n",
    "B_dir = B[1,:] - B[0,:];\n",
    "B_dir = B_dir / np.linalg.norm(B_dir);\n",
    "\n",
    "theta = math.acos(np.dot(A_dir,B_dir))\n",
    "\n",
    "print theta,\"\\n\"\n",
    "\n",
    "text_m = np.append(A,B,axis=0)\n",
    "\n",
    "print text_m,\"\\n\"\n",
    "\n",
    "print np.amin(text_m), \"\\n\"\n",
    "\n",
    "text_min = np.amin(text_m, axis=0)\n",
    "\n",
    "print text_min, \"\\n\"\n",
    "\n",
    "\n",
    "# the following are equivalent, except the latter cap only to two decimal points\n",
    "# plt.text(text_min[0]+1,text_min[1], \"theta = \" + str(theta) + \": same direction\" ); \n",
    "\n",
    "if abs(theta)< 0.2:\n",
    "    plt.text(text_min[0]+1,text_min[1], \"theta = \" + \"%0.2f\" % theta + \": same direction\" )\n",
    "    \n",
    "if abs(theta) > math.pi - 0.2:\n",
    "    plt.text(text_min[0]+1,text_min[1], \"theta = \" + \"%0.2f\" % theta + \": opposite direction\" ); \n",
    "\n",
    "plt.show()\n"
   ]
  },
  {
   "cell_type": "markdown",
   "metadata": {},
   "source": [
    "# block_inline_function"
   ]
  },
  {
   "cell_type": "code",
   "execution_count": 15,
   "metadata": {
    "collapsed": false
   },
   "outputs": [
    {
     "name": "stdout",
     "output_type": "stream",
     "text": [
      "0.880797077978\n",
      "0.880797077978\n"
     ]
    }
   ],
   "source": [
    "def sigmoid_func(x): \n",
    "    return 1/(1 + math.exp(-x))\n",
    "\n",
    "print sigmoid(2)\n",
    "\n",
    "sigmoid2 = lambda x: 1/(1 + math.exp(-x))\n",
    "\n",
    "print sigmoid2(2)"
   ]
  },
  {
   "cell_type": "markdown",
   "metadata": {
    "collapsed": true
   },
   "source": [
    "# block_map_reduce"
   ]
  },
  {
   "cell_type": "code",
   "execution_count": 17,
   "metadata": {
    "collapsed": false
   },
   "outputs": [
    {
     "name": "stdout",
     "output_type": "stream",
     "text": [
      "[-2, -1, 0, 1, 2] [0.11920292202211755, 0.2689414213699951, 0.5, 0.7310585786300049, 0.8807970779778823]\n",
      "[0.11920292202211755, 0.2689414213699951, 0.5, 0.7310585786300049, 0.8807970779778823]\n",
      "0.0103214959021\n",
      "0.0103214959021\n",
      "0.0865876081473\n"
     ]
    }
   ],
   "source": [
    "items = range(-2,3)\n",
    "\n",
    "# without using MAP function\n",
    "sigmoids = []\n",
    "for i in items:\n",
    "    sigmoids.append(sigmoid2(i))\n",
    "\n",
    "\n",
    "print items, sigmoids\n",
    "\n",
    "# using MAP function\n",
    "\n",
    "# both does the same thing of the above\n",
    "sigmoids2 = map(lambda x: 1/(1 + math.exp(-x)), items)\n",
    "sigmoids2 = map(lambda x: sigmoid_func(x), items)\n",
    "\n",
    "print sigmoids2\n",
    "\n",
    "\n",
    "# without using REDUCE function \n",
    "prod = 1\n",
    "for i in sigmoids2:\n",
    "    prod = prod * i\n",
    "\n",
    "print prod\n",
    "\n",
    "# with using REDUCE function\n",
    "prod2 = reduce((lambda x, y: x * y), sigmoids2)\n",
    "\n",
    "print prod2\n",
    "\n",
    "\n",
    "# now apply a filter to input before REDUCE\n",
    "prod3 = reduce((lambda x, y: x * y), filter(lambda x: x >= 0.2, sigmoids2))\n",
    "\n",
    "print prod3\n"
   ]
  }
 ],
 "metadata": {
  "kernelspec": {
   "display_name": "Python 2",
   "language": "python",
   "name": "python2"
  },
  "language_info": {
   "codemirror_mode": {
    "name": "ipython",
    "version": 2
   },
   "file_extension": ".py",
   "mimetype": "text/x-python",
   "name": "python",
   "nbconvert_exporter": "python",
   "pygments_lexer": "ipython2",
   "version": "2.7.11"
  }
 },
 "nbformat": 4,
 "nbformat_minor": 2
}
